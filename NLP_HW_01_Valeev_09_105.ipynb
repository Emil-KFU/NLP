{
  "nbformat": 4,
  "nbformat_minor": 0,
  "metadata": {
    "colab": {
      "provenance": [],
      "collapsed_sections": []
    },
    "kernelspec": {
      "name": "python3",
      "display_name": "Python 3"
    },
    "language_info": {
      "name": "python"
    }
  },
  "cells": [
    {
      "cell_type": "code",
      "execution_count": 33,
      "metadata": {
        "id": "IENHhjQ3pQm4"
      },
      "outputs": [],
      "source": [
        "# Импортируем пакет регулярных выражений\n",
        "import re"
      ]
    },
    {
      "cell_type": "code",
      "source": [
        "# Создаём регулярное выражение, которое соответствует приветствиям, начинающимся с hi, hello или hey,\n",
        "# после которых следует любое количество пробельных символов, а после них - любое количество букв от a до z\n",
        "r = \"(hi|hello|hey)[ ]*([a-z]*)\""
      ],
      "metadata": {
        "id": "3xE8uvs5pstQ"
      },
      "execution_count": 34,
      "outputs": []
    },
    {
      "cell_type": "code",
      "source": [
        "# Ищем паттерн r в строке Hello Rosa, при этом поиск осуществляется без учёта регистра\n",
        "re.match(r, \"Hello Rosa\", flags = re.IGNORECASE)"
      ],
      "metadata": {
        "colab": {
          "base_uri": "https://localhost:8080/"
        },
        "id": "0vAfA4vFqApX",
        "outputId": "b34c9012-b81d-434b-f26a-3e374434cfed"
      },
      "execution_count": 35,
      "outputs": [
        {
          "output_type": "execute_result",
          "data": {
            "text/plain": [
              "<re.Match object; span=(0, 10), match='Hello Rosa'>"
            ]
          },
          "metadata": {},
          "execution_count": 35
        }
      ]
    },
    {
      "cell_type": "code",
      "source": [
        "# паттерн найден (вывод выше)"
      ],
      "metadata": {
        "id": "EtlVAkrocFgT"
      },
      "execution_count": 36,
      "outputs": []
    },
    {
      "cell_type": "code",
      "source": [
        "# Ищем паттерн r в строке hi ho, hi ho, it's off to work ..., при этом поиск осуществляется без учёта регистра\n",
        "re.match(r, \"hi ho, hi ho, it's off to work ...\", flags = re.IGNORECASE)"
      ],
      "metadata": {
        "colab": {
          "base_uri": "https://localhost:8080/"
        },
        "id": "1INaZPlGqVjY",
        "outputId": "3a23847c-d898-41f4-bb5d-9296837ab4ed"
      },
      "execution_count": 37,
      "outputs": [
        {
          "output_type": "execute_result",
          "data": {
            "text/plain": [
              "<re.Match object; span=(0, 5), match='hi ho'>"
            ]
          },
          "metadata": {},
          "execution_count": 37
        }
      ]
    },
    {
      "cell_type": "code",
      "source": [
        "# паттерн найден (вывод выше)"
      ],
      "metadata": {
        "id": "vVvma1QIcaZ-"
      },
      "execution_count": 38,
      "outputs": []
    },
    {
      "cell_type": "code",
      "source": [
        "# Ищем паттерн r в строке hey, what's up, при этом поиск осуществляется без учёта регистра\n",
        "re.match(r, \"hey, what's up\", flags = re.IGNORECASE)"
      ],
      "metadata": {
        "colab": {
          "base_uri": "https://localhost:8080/"
        },
        "id": "YZRP4-tfq8i7",
        "outputId": "8f43e773-f9f4-4c3c-e7a3-e15231e1360a"
      },
      "execution_count": 39,
      "outputs": [
        {
          "output_type": "execute_result",
          "data": {
            "text/plain": [
              "<re.Match object; span=(0, 3), match='hey'>"
            ]
          },
          "metadata": {},
          "execution_count": 39
        }
      ]
    },
    {
      "cell_type": "code",
      "source": [
        "# паттерн найден (вывод выше)"
      ],
      "metadata": {
        "id": "NfFhHbW_coR_"
      },
      "execution_count": 40,
      "outputs": []
    },
    {
      "cell_type": "code",
      "source": [
        "# Создаём новый паттерн, который сможет распознавать больше вариантов приветствий\n",
        "r = r\"[^a-z]*([y]o|[h']?ello|ok|hey|(good[ ])?(morn[gin']{0,3}|\"\\\n",
        "r\"afternoon|even[gin']{0,3}))[\\s,;:]{1,3}([a-z]{1,20})\""
      ],
      "metadata": {
        "id": "uguNQ0hTrNcJ"
      },
      "execution_count": 41,
      "outputs": []
    },
    {
      "cell_type": "code",
      "source": [
        "# скомпилировали регулярное выражение, чтобы не указывать флаги каждый раз\n",
        "re_greeting = re.compile(r, flags = re.IGNORECASE)"
      ],
      "metadata": {
        "id": "108tKIZ9s185"
      },
      "execution_count": 42,
      "outputs": []
    },
    {
      "cell_type": "code",
      "source": [
        "# Ищем паттерн re_greeting в строке Hello Rosa, при этом поиск осуществляется без учёта регистра\n",
        "re_greeting.match('Hello Rosa')"
      ],
      "metadata": {
        "colab": {
          "base_uri": "https://localhost:8080/"
        },
        "id": "2uagZTpCuUp2",
        "outputId": "92358aac-bc63-4332-e64e-4f657c4bfd66"
      },
      "execution_count": 43,
      "outputs": [
        {
          "output_type": "execute_result",
          "data": {
            "text/plain": [
              "<re.Match object; span=(0, 10), match='Hello Rosa'>"
            ]
          },
          "metadata": {},
          "execution_count": 43
        }
      ]
    },
    {
      "cell_type": "code",
      "source": [
        "# паттерн найден (вывод выше)"
      ],
      "metadata": {
        "id": "pfEWZx8mgn8B"
      },
      "execution_count": 44,
      "outputs": []
    },
    {
      "cell_type": "code",
      "source": [
        "# Ищем паттерн re_greeting в строке Hello Rosa, при этом поиск осуществляется без учёта регистра.\n",
        "# Выведутся все сопоставимые с паттерном подгруппы строки \n",
        "re_greeting.match('Hello Rosa').groups()"
      ],
      "metadata": {
        "colab": {
          "base_uri": "https://localhost:8080/"
        },
        "id": "CxUPJYgswC1N",
        "outputId": "af212e4b-dd7e-416d-b6a8-01a049b005f1"
      },
      "execution_count": 45,
      "outputs": [
        {
          "output_type": "execute_result",
          "data": {
            "text/plain": [
              "('Hello', None, None, 'Rosa')"
            ]
          },
          "metadata": {},
          "execution_count": 45
        }
      ]
    },
    {
      "cell_type": "code",
      "source": [
        "re_greeting.match(\"Good morning Rosa\")"
      ],
      "metadata": {
        "colab": {
          "base_uri": "https://localhost:8080/"
        },
        "id": "kgyKjf9SwYTo",
        "outputId": "9612e437-befc-4fe9-fc54-5bb22a7bdbe8"
      },
      "execution_count": 46,
      "outputs": [
        {
          "output_type": "execute_result",
          "data": {
            "text/plain": [
              "<re.Match object; span=(0, 17), match='Good morning Rosa'>"
            ]
          },
          "metadata": {},
          "execution_count": 46
        }
      ]
    },
    {
      "cell_type": "code",
      "source": [
        "re_greeting.match(\"Good Manning Rosa\")"
      ],
      "metadata": {
        "id": "OKuMHHQIwh_e"
      },
      "execution_count": 47,
      "outputs": []
    },
    {
      "cell_type": "code",
      "source": [
        "# паттерн не найден (вывод выше), так как в слове Manning после m идёт a, а не o, как в паттерне r"
      ],
      "metadata": {
        "id": "GANBicsnhik8"
      },
      "execution_count": 48,
      "outputs": []
    },
    {
      "cell_type": "code",
      "source": [
        "re_greeting.match(\"Good evening Rosa Parks\").groups()"
      ],
      "metadata": {
        "colab": {
          "base_uri": "https://localhost:8080/"
        },
        "id": "-bmOZl0lw2_n",
        "outputId": "e422331b-9aa7-4b33-e74f-181da623bfa4"
      },
      "execution_count": 49,
      "outputs": [
        {
          "output_type": "execute_result",
          "data": {
            "text/plain": [
              "('Good evening', 'Good ', 'evening', 'Rosa')"
            ]
          },
          "metadata": {},
          "execution_count": 49
        }
      ]
    },
    {
      "cell_type": "code",
      "source": [
        "re_greeting.match(\"Good Morn'n Rosa\")"
      ],
      "metadata": {
        "colab": {
          "base_uri": "https://localhost:8080/"
        },
        "id": "fW0p34f5xcOr",
        "outputId": "211b1e37-be5a-429b-a18a-469c2c76965d"
      },
      "execution_count": 50,
      "outputs": [
        {
          "output_type": "execute_result",
          "data": {
            "text/plain": [
              "<re.Match object; span=(0, 16), match=\"Good Morn'n Rosa\">"
            ]
          },
          "metadata": {},
          "execution_count": 50
        }
      ]
    },
    {
      "cell_type": "code",
      "source": [
        "re_greeting.match(\"yo Rosa\")"
      ],
      "metadata": {
        "colab": {
          "base_uri": "https://localhost:8080/"
        },
        "id": "e0zptZP2xv1b",
        "outputId": "1a1966ae-5438-43d4-830b-51bab7c8387a"
      },
      "execution_count": 51,
      "outputs": [
        {
          "output_type": "execute_result",
          "data": {
            "text/plain": [
              "<re.Match object; span=(0, 7), match='yo Rosa'>"
            ]
          },
          "metadata": {},
          "execution_count": 51
        }
      ]
    },
    {
      "cell_type": "code",
      "source": [
        "my_names = set(['rosa', 'rose', 'chatty', 'chatbot', 'bot', 'chatterbot'])"
      ],
      "metadata": {
        "id": "5_jqrEJux148"
      },
      "execution_count": 52,
      "outputs": []
    },
    {
      "cell_type": "code",
      "source": [
        "curt_names = set(['hal', 'you', 'u'])"
      ],
      "metadata": {
        "id": "Z3M__M1Fy0c4"
      },
      "execution_count": 53,
      "outputs": []
    },
    {
      "cell_type": "code",
      "source": [
        "# пишем имя собеседника\n",
        "greeter_name ='Emil'"
      ],
      "metadata": {
        "id": "u3At8Fz9y90O"
      },
      "execution_count": 54,
      "outputs": []
    },
    {
      "cell_type": "code",
      "source": [
        "# Записываем результат сопоставления паттерна re_greeting с введёной с клавиатуры строкой в переменную match\n",
        "match = re_greeting.match(input())"
      ],
      "metadata": {
        "colab": {
          "base_uri": "https://localhost:8080/"
        },
        "id": "kdXIiaiqzDwp",
        "outputId": "bbbf4ac6-2d27-465f-fb7f-c470e54f7552"
      },
      "execution_count": 55,
      "outputs": [
        {
          "name": "stdout",
          "output_type": "stream",
          "text": [
            "hello rosa\n"
          ]
        }
      ]
    },
    {
      "cell_type": "code",
      "source": [
        "if match:\n",
        "  at_name = match.groups()[-1] # запоминаем имя бота\n",
        "  if at_name in curt_names:\n",
        "    print(\"Good one.\")\n",
        "  elif at_name.lower() in my_names: # если имя бота есть в множестве my_names, приветствуем собеседника, называя его по имени\n",
        "    print(\"Hi, {}, How are you?\".format(greeter_name))"
      ],
      "metadata": {
        "colab": {
          "base_uri": "https://localhost:8080/"
        },
        "id": "D7Ej59srzNZi",
        "outputId": "a7ccb222-8e47-4445-844f-d1aa745ebbae"
      },
      "execution_count": 56,
      "outputs": [
        {
          "output_type": "stream",
          "name": "stdout",
          "text": [
            "Hi, Emil, How are you?\n"
          ]
        }
      ]
    },
    {
      "cell_type": "code",
      "source": [],
      "metadata": {
        "id": "nQ-TUe0Y0Xx7"
      },
      "execution_count": 56,
      "outputs": []
    }
  ]
}