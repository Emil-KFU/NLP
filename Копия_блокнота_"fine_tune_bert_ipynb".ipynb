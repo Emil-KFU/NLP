{
  "cells": [
    {
      "cell_type": "markdown",
      "metadata": {
        "id": "view-in-github",
        "colab_type": "text"
      },
      "source": [
        "<a href=\"https://colab.research.google.com/github/Emil-KFU/NLP/blob/main/%D0%9A%D0%BE%D0%BF%D0%B8%D1%8F_%D0%B1%D0%BB%D0%BE%D0%BA%D0%BD%D0%BE%D1%82%D0%B0_%22fine_tune_bert_ipynb%22.ipynb\" target=\"_parent\"><img src=\"https://colab.research.google.com/assets/colab-badge.svg\" alt=\"Open In Colab\"/></a>"
      ]
    },
    {
      "cell_type": "markdown",
      "metadata": {
        "id": "vXLA5InzXydn"
      },
      "source": [
        "##### Copyright 2019 The TensorFlow Authors."
      ]
    },
    {
      "cell_type": "code",
      "execution_count": 1,
      "metadata": {
        "id": "RuRlpLL-X0R_",
        "cellView": "form"
      },
      "outputs": [],
      "source": [
        "#@title Licensed under the Apache License, Version 2.0 (the \"License\");\n",
        "# you may not use this file except in compliance with the License.\n",
        "# You may obtain a copy of the License at\n",
        "#\n",
        "# https://www.apache.org/licenses/LICENSE-2.0\n",
        "#\n",
        "# Unless required by applicable law or agreed to in writing, software\n",
        "# distributed under the License is distributed on an \"AS IS\" BASIS,\n",
        "# WITHOUT WARRANTIES OR CONDITIONS OF ANY KIND, either express or implied.\n",
        "# See the License for the specific language governing permissions and\n",
        "# limitations under the License."
      ]
    },
    {
      "cell_type": "markdown",
      "metadata": {
        "id": "1mLJmVotXs64"
      },
      "source": [
        "# Точная настройка модели BERT"
      ]
    },
    {
      "cell_type": "markdown",
      "metadata": {
        "id": "hYEwGTeCXnnX"
      },
      "source": [
        "<table class=\"tfo-notebook-buttons\" align=\"left\">\n",
        "  <td>\n",
        "    <a target=\"_blank\" href=\"https://www.tensorflow.org/tfmodels/nlp/fine_tune_bert\"><img src=\"https://www.tensorflow.org/images/tf_logo_32px.png\" />View on TensorFlow.org</a>\n",
        "  </td>\n",
        "  <td>\n",
        "    <a target=\"_blank\" href=\"https://colab.research.google.com/github/tensorflow/models/blob/master/docs/nlp/fine_tune_bert.ipynb\"><img src=\"https://www.tensorflow.org/images/colab_logo_32px.png\" />Run in Google Colab</a>\n",
        "  </td>\n",
        "  <td>\n",
        "    <a target=\"_blank\" href=\"https://github.com/tensorflow/models/blob/master/docs/nlp/fine_tune_bert.ipynb\"><img src=\"https://www.tensorflow.org/images/GitHub-Mark-32px.png\" />View source on GitHub</a>\n",
        "  </td>\n",
        "  <td>\n",
        "    <a href=\"https://storage.googleapis.com/tensorflow_docs/models/docs/nlp/fine_tune_bert.ipynb\"><img src=\"https://www.tensorflow.org/images/download_logo_32px.png\" />Download notebook</a>\n",
        "  </td>\n",
        "  <td>\n",
        "    <a href=\"https://tfhub.dev/google/collections/bert\"><img src=\"https://www.tensorflow.org/images/hub_logo_32px.png\" />See TF Hub model</a>\n",
        "  </td>\n",
        "</table>"
      ]
    },
    {
      "cell_type": "markdown",
      "metadata": {
        "id": "YN2ACivEPxgD"
      },
      "source": [
        "В этом руководстве демонстрируется, как точно настроить представления двунаправленного кодера из модели Transformers (BERT) (Devlin et al., 2018) с использованием TensorFlow Model Garden.\n",
        "\n",
        "Вы также можете найти предварительно обученную модель BERT, используемую в этом руководстве, на TensorFlow Hub (TF Hub). Конкретные примеры использования моделей из TF Hub см. в руководстве \"Решайте задачи склеивания с помощью BERT\". Если вы просто пытаетесь точно настроить модель, учебное пособие по TF Hub - хорошая отправная точка.\n",
        "\n",
        "С другой стороны, если вы заинтересованы в более глубокой настройке, следуйте этому руководству. Здесь показано, как многое можно сделать вручную, чтобы вы могли узнать, как настроить рабочий процесс от предварительной обработки данных до обучения, экспорта и сохранения модели.saving the model."
      ]
    },
    {
      "cell_type": "markdown",
      "metadata": {
        "id": "s2d9S2CSSO1z"
      },
      "source": [
        "## Настройка"
      ]
    },
    {
      "cell_type": "markdown",
      "metadata": {
        "id": "69de3375e32a"
      },
      "source": [
        "### Установка пакетов pip"
      ]
    },
    {
      "cell_type": "markdown",
      "metadata": {
        "id": "fsACVQpVSifi"
      },
      "source": [
        "Начните с установки пакетов TensorFlow Text и Model Garden pip.\n",
        "\n",
        "* tf-models-official является пакетом сада модели TensorFlow. Обратите внимание, что он может не включать последние изменения в репозитории tensorflow_modelsGitHub. Чтобы включить последние изменения, вы можете установить tf-models-nightly, который представляет собой пакет nightly Model Garden, создаваемый ежедневно автоматически.\n",
        "*pip автоматически установит все модели и зависимости."
      ]
    },
    {
      "cell_type": "code",
      "execution_count": 2,
      "metadata": {
        "id": "sE6XUxLOf1s-"
      },
      "outputs": [],
      "source": [
        "!pip install -q opencv-python"
      ]
    },
    {
      "cell_type": "code",
      "execution_count": 3,
      "metadata": {
        "id": "yic2y7_o-BCC",
        "colab": {
          "base_uri": "https://localhost:8080/"
        },
        "outputId": "871cbfc2-7f30-4434-e436-6b0b50e57288"
      },
      "outputs": [
        {
          "output_type": "stream",
          "name": "stdout",
          "text": [
            "\u001b[K     |████████████████████████████████| 4.6 MB 35.0 MB/s \n",
            "\u001b[?25h"
          ]
        }
      ],
      "source": [
        "!pip install -q -U \"tensorflow-text==2.9.*\""
      ]
    },
    {
      "cell_type": "code",
      "execution_count": 4,
      "metadata": {
        "id": "NvNr2svBM-p3",
        "colab": {
          "base_uri": "https://localhost:8080/"
        },
        "outputId": "0e3c7bd2-f53e-41b5-da5b-30ad54b60f09"
      },
      "outputs": [
        {
          "output_type": "stream",
          "name": "stdout",
          "text": [
            "\u001b[K     |████████████████████████████████| 2.3 MB 31.6 MB/s \n",
            "\u001b[K     |████████████████████████████████| 588.3 MB 21 kB/s \n",
            "\u001b[K     |████████████████████████████████| 238 kB 67.8 MB/s \n",
            "\u001b[K     |████████████████████████████████| 43 kB 2.3 MB/s \n",
            "\u001b[K     |████████████████████████████████| 662 kB 69.5 MB/s \n",
            "\u001b[K     |████████████████████████████████| 1.1 MB 74.5 MB/s \n",
            "\u001b[K     |████████████████████████████████| 1.3 MB 60.3 MB/s \n",
            "\u001b[K     |████████████████████████████████| 118 kB 78.0 MB/s \n",
            "\u001b[K     |████████████████████████████████| 5.8 MB 66.4 MB/s \n",
            "\u001b[K     |████████████████████████████████| 352 kB 81.3 MB/s \n",
            "\u001b[K     |████████████████████████████████| 1.7 MB 75.3 MB/s \n",
            "\u001b[K     |████████████████████████████████| 6.0 MB 48.2 MB/s \n",
            "\u001b[K     |████████████████████████████████| 439 kB 56.2 MB/s \n",
            "\u001b[?25h  Building wheel for seqeval (setup.py) ... \u001b[?25l\u001b[?25hdone\n"
          ]
        }
      ],
      "source": [
        "!pip install -q tf-models-official"
      ]
    },
    {
      "cell_type": "markdown",
      "metadata": {
        "id": "U-7qPCjWUAyy"
      },
      "source": [
        "### Импорт библиотек"
      ]
    },
    {
      "cell_type": "code",
      "execution_count": 5,
      "metadata": {
        "id": "lXsXev5MNr20"
      },
      "outputs": [],
      "source": [
        "import os\n",
        "\n",
        "import numpy as np\n",
        "import matplotlib.pyplot as plt\n",
        "\n",
        "import tensorflow as tf\n",
        "import tensorflow_models as tfm\n",
        "import tensorflow_hub as hub\n",
        "import tensorflow_datasets as tfds\n",
        "tfds.disable_progress_bar()"
      ]
    },
    {
      "cell_type": "markdown",
      "metadata": {
        "id": "mbanlzTvJBsz"
      },
      "source": [
        "### Ресурсы"
      ]
    },
    {
      "cell_type": "markdown",
      "metadata": {
        "id": "PpW0x8TpR8DT"
      },
      "source": [
        "Следующий каталог содержит конфигурацию модели BERT, словарь и предварительно подготовленную контрольную точку, используемую в этом руководстве:"
      ]
    },
    {
      "cell_type": "code",
      "execution_count": 6,
      "metadata": {
        "id": "vzRHOLciR8eq",
        "colab": {
          "base_uri": "https://localhost:8080/"
        },
        "outputId": "bfec57c8-36f9-4f79-a2d7-c787fcc509b1"
      },
      "outputs": [
        {
          "output_type": "execute_result",
          "data": {
            "text/plain": [
              "['bert_config.json',\n",
              " 'bert_model.ckpt.data-00000-of-00001',\n",
              " 'bert_model.ckpt.index',\n",
              " 'vocab.txt']"
            ]
          },
          "metadata": {},
          "execution_count": 6
        }
      ],
      "source": [
        "gs_folder_bert = \"gs://cloud-tpu-checkpoints/bert/v3/uncased_L-12_H-768_A-12\"\n",
        "tf.io.gfile.listdir(gs_folder_bert)"
      ]
    },
    {
      "cell_type": "markdown",
      "metadata": {
        "id": "Qv6abtRvH4xO"
      },
      "source": [
        "## Загрузка и предварительная обработка набора данных\n",
        "\n",
        "В этом примере используется набор данных GLUE (оценка общего понимания языка) MRPC (Microsoft Research Paraphrase Corpus) из <a>наборов данных TensorFlow (TFDS)</a>.Этот набор данных настроен не так, чтобы его можно было напрямую вводить в модель BERT. В следующем разделе рассматривается необходимая предварительная обработка..\n",
        "\n",
        "Этот набор данных настроен не так, чтобы его можно было напрямую вводить в модель BERT. В следующем разделе рассматривается необходимая предварительная обработка."
      ]
    },
    {
      "cell_type": "markdown",
      "metadata": {
        "id": "28DvUhC1YUiB"
      },
      "source": [
        "### Получить набор данных из наборов данных TensorFlow\n",
        "\n",
        "Набор данных GLUE MRPC (Dolan and Brockett, 2005) представляет собой набор пар предложений, автоматически извлекаемых из онлайн-источников новостей, с комментариями человека о том, являются ли предложения в паре семантически эквивалентными. Он имеет следующие атрибуты:\n",
        "\n",
        "* Количество меток: 2\n",
        "* Размер обучающего набора данных: 3668\n",
        "* Размер набора данных для оценки: 408\n",
        "* Максимальная длина последовательности обучающего и оценочного набора данных: 128\n",
        "\n",
        "Начните с загрузки набора данных MRPC из TFDS:"
      ]
    },
    {
      "cell_type": "code",
      "execution_count": 7,
      "metadata": {
        "id": "Ijikx5OsH9AT",
        "colab": {
          "base_uri": "https://localhost:8080/"
        },
        "outputId": "4303d04d-3077-4a75-cb93-05f0f7696cc7"
      },
      "outputs": [
        {
          "output_type": "stream",
          "name": "stdout",
          "text": [
            "Downloading and preparing dataset 1.43 MiB (download: 1.43 MiB, generated: 1.74 MiB, total: 3.17 MiB) to ~/tensorflow_datasets/glue/mrpc/2.0.0...\n",
            "Dataset glue downloaded and prepared to ~/tensorflow_datasets/glue/mrpc/2.0.0. Subsequent calls will reuse this data.\n"
          ]
        }
      ],
      "source": [
        "batch_size=32\n",
        "glue, info = tfds.load('glue/mrpc',\n",
        "                       with_info=True,\n",
        "                       batch_size=32)"
      ]
    },
    {
      "cell_type": "code",
      "execution_count": 8,
      "metadata": {
        "id": "QcMTJU4N7VX-",
        "colab": {
          "base_uri": "https://localhost:8080/"
        },
        "outputId": "b74702af-04fb-42fb-9cd5-2bf31dfef8a5"
      },
      "outputs": [
        {
          "output_type": "execute_result",
          "data": {
            "text/plain": [
              "{Split('train'): <PrefetchDataset element_spec={'idx': TensorSpec(shape=(None,), dtype=tf.int32, name=None), 'label': TensorSpec(shape=(None,), dtype=tf.int64, name=None), 'sentence1': TensorSpec(shape=(None,), dtype=tf.string, name=None), 'sentence2': TensorSpec(shape=(None,), dtype=tf.string, name=None)}>,\n",
              " Split('validation'): <PrefetchDataset element_spec={'idx': TensorSpec(shape=(None,), dtype=tf.int32, name=None), 'label': TensorSpec(shape=(None,), dtype=tf.int64, name=None), 'sentence1': TensorSpec(shape=(None,), dtype=tf.string, name=None), 'sentence2': TensorSpec(shape=(None,), dtype=tf.string, name=None)}>,\n",
              " Split('test'): <PrefetchDataset element_spec={'idx': TensorSpec(shape=(None,), dtype=tf.int32, name=None), 'label': TensorSpec(shape=(None,), dtype=tf.int64, name=None), 'sentence1': TensorSpec(shape=(None,), dtype=tf.string, name=None), 'sentence2': TensorSpec(shape=(None,), dtype=tf.string, name=None)}>}"
            ]
          },
          "metadata": {},
          "execution_count": 8
        }
      ],
      "source": [
        "glue"
      ]
    },
    {
      "cell_type": "markdown",
      "metadata": {
        "id": "ZgBg2r2nYT-K"
      },
      "source": [
        "Объект `info` описывает набор данных и его функции:"
      ]
    },
    {
      "cell_type": "code",
      "execution_count": 9,
      "metadata": {
        "id": "IQrHxv7W7jH5",
        "colab": {
          "base_uri": "https://localhost:8080/"
        },
        "outputId": "745f4ded-20d4-4cba-ecde-c1b6b0f03e21"
      },
      "outputs": [
        {
          "output_type": "execute_result",
          "data": {
            "text/plain": [
              "FeaturesDict({\n",
              "    'idx': tf.int32,\n",
              "    'label': ClassLabel(shape=(), dtype=tf.int64, num_classes=2),\n",
              "    'sentence1': Text(shape=(), dtype=tf.string),\n",
              "    'sentence2': Text(shape=(), dtype=tf.string),\n",
              "})"
            ]
          },
          "metadata": {},
          "execution_count": 9
        }
      ],
      "source": [
        "info.features"
      ]
    },
    {
      "cell_type": "markdown",
      "metadata": {
        "id": "vhsVWYNxazz5"
      },
      "source": [
        "Два класса такие:"
      ]
    },
    {
      "cell_type": "code",
      "execution_count": 10,
      "metadata": {
        "id": "n0gfc_VTayfQ",
        "colab": {
          "base_uri": "https://localhost:8080/"
        },
        "outputId": "d77575d9-2a2c-4937-b95a-2ee5b509080e"
      },
      "outputs": [
        {
          "output_type": "execute_result",
          "data": {
            "text/plain": [
              "['not_equivalent', 'equivalent']"
            ]
          },
          "metadata": {},
          "execution_count": 10
        }
      ],
      "source": [
        "info.features['label'].names"
      ]
    },
    {
      "cell_type": "markdown",
      "metadata": {
        "id": "38zJcap6xkbC"
      },
      "source": [
        "Вот один пример из обучающего набора:"
      ]
    },
    {
      "cell_type": "code",
      "execution_count": 11,
      "metadata": {
        "id": "xON_i6SkwApW",
        "colab": {
          "base_uri": "https://localhost:8080/"
        },
        "outputId": "c2c45d69-0e62-48f1-aa01-c8f92dcc0725"
      },
      "outputs": [
        {
          "output_type": "stream",
          "name": "stdout",
          "text": [
            "idx      : 1680\n",
            "label    : 0\n",
            "sentence1: b'The identical rovers will act as robotic geologists , searching for evidence of past water .'\n",
            "sentence2: b'The rovers act as robotic geologists , moving on six wheels .'\n"
          ]
        }
      ],
      "source": [
        "example_batch = next(iter(glue['train']))\n",
        "\n",
        "for key, value in example_batch.items():\n",
        "  print(f\"{key:9s}: {value[0].numpy()}\")"
      ]
    },
    {
      "cell_type": "markdown",
      "metadata": {
        "id": "R9vEWgKA4SxV"
      },
      "source": [
        "### Предварительная обработка данных\n",
        "\n",
        "Ключи `\"sentence1\"`и `\"sentence2\"` в наборе данных GLUE MRPC содержат два входных предложения для каждого примера.\n",
        "\n",
        "Поскольку модель BERT из Model Garden не принимает необработанный текст в качестве входных данных, сначала должны произойти две вещи:\n",
        "\n",
        "1. Текст должен быть маркирован (разбит на части слов) и преобразован в индексы.\n",
        "2. Затем индексы должны быть упакованы в формат, который ожидает модель."
      ]
    },
    {
      "cell_type": "markdown",
      "metadata": {
        "id": "9fbTyfJpNr7x"
      },
      "source": [
        "#### Токенизатор БЕРТА"
      ]
    },
    {
      "cell_type": "markdown",
      "metadata": {
        "id": "wqeN54S61ZKQ"
      },
      "source": [
        "Чтобы точно настроить предварительно подготовленную языковую модель из Model Garden, такую как BERT, вам необходимо убедиться, что вы используете точно такую же маркировку, словарь и сопоставление индексов, которые использовались во время обучения.\n",
        "\n",
        "Следующий код перестраивает токенизатор, который использовался базовой моделью, используя `tfm.nlp.layers.FastWordpieceBertTokenizer` слой модели Garden:"
      ]
    },
    {
      "cell_type": "code",
      "execution_count": 12,
      "metadata": {
        "id": "-DK4q5wEBmlB"
      },
      "outputs": [],
      "source": [
        "tokenizer = tfm.nlp.layers.FastWordpieceBertTokenizer(\n",
        "    vocab_file=os.path.join(gs_folder_bert, \"vocab.txt\"),\n",
        "    lower_case=True)"
      ]
    },
    {
      "cell_type": "markdown",
      "metadata": {
        "id": "zYHDSquU2lDU"
      },
      "source": [
        "Давайте протокенизируем тестовое предложение:"
      ]
    },
    {
      "cell_type": "code",
      "execution_count": 13,
      "metadata": {
        "id": "L_OfOYPg853R",
        "colab": {
          "base_uri": "https://localhost:8080/"
        },
        "outputId": "e6772366-055d-4ac8-93cf-309da7c8408a"
      },
      "outputs": [
        {
          "output_type": "execute_result",
          "data": {
            "text/plain": [
              "<tf.RaggedTensor [[[7592], [23435, 12314], [999]]]>"
            ]
          },
          "metadata": {},
          "execution_count": 13
        }
      ],
      "source": [
        "tokens = tokenizer(tf.constant([\"Hello TensorFlow!\"]))\n",
        "tokens"
      ]
    },
    {
      "cell_type": "markdown",
      "metadata": {
        "id": "wd1b09OO5GJl"
      },
      "source": [
        "#### Упакуем входные данные"
      ]
    },
    {
      "cell_type": "markdown",
      "metadata": {
        "id": "62UTWLQd9-LB"
      },
      "source": [
        "Модель BERT TensorFlow модели Garden не просто принимает маркированные строки в качестве входных данных. Он также ожидает, что они будут упакованы в определенный формат. `tfm.nlp.layers.BertPackInputs` слой может обрабатывать преобразование из списка маркированных предложений во входной формат, ожидаемый моделью BERT в Model Garden.\n",
        "\n",
        "`tfm.nlp.layers.BertPackInputs` объединяет два входных предложения (для каждого примера в наборе данных MRCP), объединенные вместе. Ожидается, что этот ввод будет начинаться с токена [CLS]\"Это проблема классификации\", и каждое предложение должно заканчиваться токеном [SEP]\"Разделитель\".\n",
        "\n",
        "Поэтому конструктор `tfm.nlp.layers.BertPackInputs` слоя принимает специальные токены `tokenizer` в качестве аргумента. Также необходимо знать индексы специальных токенов токенизатора."
      ]
    },
    {
      "cell_type": "code",
      "execution_count": 14,
      "metadata": {
        "id": "5iroDlrFDRcF",
        "colab": {
          "base_uri": "https://localhost:8080/"
        },
        "outputId": "84a66970-0cfa-4c97-eedd-0c4a4986368e"
      },
      "outputs": [
        {
          "output_type": "execute_result",
          "data": {
            "text/plain": [
              "{'vocab_size': 30522,\n",
              " 'start_of_sequence_id': 101,\n",
              " 'end_of_segment_id': 102,\n",
              " 'padding_id': 0,\n",
              " 'mask_id': 103}"
            ]
          },
          "metadata": {},
          "execution_count": 14
        }
      ],
      "source": [
        "special = tokenizer.get_special_tokens_dict()\n",
        "special"
      ]
    },
    {
      "cell_type": "code",
      "execution_count": 15,
      "metadata": {
        "id": "b71HarkuG92H"
      },
      "outputs": [],
      "source": [
        "max_seq_length = 128\n",
        "\n",
        "packer = tfm.nlp.layers.BertPackInputs(\n",
        "    seq_length=max_seq_length,\n",
        "    special_tokens_dict = tokenizer.get_special_tokens_dict())"
      ]
    },
    {
      "cell_type": "markdown",
      "metadata": {
        "id": "CZlSZbYd6liN"
      },
      "source": [
        "В `packer` качестве входных данных используется список маркированных предложений. Например:"
      ]
    },
    {
      "cell_type": "code",
      "execution_count": 16,
      "metadata": {
        "id": "27dU_VkJHc9S",
        "colab": {
          "base_uri": "https://localhost:8080/"
        },
        "outputId": "646b3655-0129-403f-9fb9-df3dbea61957"
      },
      "outputs": [
        {
          "output_type": "execute_result",
          "data": {
            "text/plain": [
              "<tf.RaggedTensor [[[7592], [23435, 12314]]]>"
            ]
          },
          "metadata": {},
          "execution_count": 16
        }
      ],
      "source": [
        "sentences1 = [\"hello tensorflow\"]\n",
        "tok1 = tokenizer(sentences1)\n",
        "tok1"
      ]
    },
    {
      "cell_type": "code",
      "execution_count": 17,
      "metadata": {
        "id": "LURHmNOSHnWN",
        "colab": {
          "base_uri": "https://localhost:8080/"
        },
        "outputId": "f7090f8b-185f-401b-8ee8-e682808d5ab6"
      },
      "outputs": [
        {
          "output_type": "execute_result",
          "data": {
            "text/plain": [
              "<tf.RaggedTensor [[[9119], [23435, 12314]]]>"
            ]
          },
          "metadata": {},
          "execution_count": 17
        }
      ],
      "source": [
        "sentences2 = [\"goodbye tensorflow\"]\n",
        "tok2 = tokenizer(sentences2)\n",
        "tok2"
      ]
    },
    {
      "cell_type": "markdown",
      "metadata": {
        "id": "r8bvB8gI8BqP"
      },
      "source": [
        "Затем он возвращает словарь, содержащий три выходных данных:\n",
        "\n",
        "- `input_word_ids`: Токенизированные предложения упакованные вместе.\n",
        "- `input_mask`: Маска, указывающая, какие местоположения допустимы в других выходных данных.\n",
        "- `input_type_ids`: Указание на то, к какому предложению относится каждый токен."
      ]
    },
    {
      "cell_type": "code",
      "execution_count": 18,
      "metadata": {
        "id": "YsIDTOMJHrUQ",
        "colab": {
          "base_uri": "https://localhost:8080/"
        },
        "outputId": "e51bf606-bcf7-4614-f85b-c5666e9803ce"
      },
      "outputs": [
        {
          "output_type": "stream",
          "name": "stdout",
          "text": [
            "input_word_ids : [[  101  7592 23435 12314   102  9119 23435 12314   102     0     0     0]]\n",
            "input_mask     : [[1 1 1 1 1 1 1 1 1 0 0 0]]\n",
            "input_type_ids : [[0 0 0 0 0 1 1 1 1 0 0 0]]\n"
          ]
        }
      ],
      "source": [
        "packed = packer([tok1, tok2])\n",
        "\n",
        "for key, tensor in packed.items():\n",
        "  print(f\"{key:15s}: {tensor[:, :12]}\")"
      ]
    },
    {
      "cell_type": "markdown",
      "metadata": {
        "id": "red4tRcq74Qc"
      },
      "source": [
        "####  Соберём все это вместе\n",
        "Объедините эти две части в `keras.layers.Layer` который может быть прикреплён к нашей модеои"
      ]
    },
    {
      "cell_type": "code",
      "execution_count": 19,
      "metadata": {
        "id": "9Qtz-tv-6nz6"
      },
      "outputs": [],
      "source": [
        "class BertInputProcessor(tf.keras.layers.Layer):\n",
        "  def __init__(self, tokenizer, packer):\n",
        "    super().__init__()\n",
        "    self.tokenizer = tokenizer\n",
        "    self.packer = packer\n",
        "\n",
        "  def call(self, inputs):\n",
        "    tok1 = self.tokenizer(inputs['sentence1'])\n",
        "    tok2 = self.tokenizer(inputs['sentence2'])\n",
        "\n",
        "    packed = self.packer([tok1, tok2])\n",
        "\n",
        "    if 'label' in inputs:\n",
        "      return packed, inputs['label']\n",
        "    else:\n",
        "      return packed"
      ]
    },
    {
      "cell_type": "markdown",
      "metadata": {
        "id": "rdy9wp499btU"
      },
      "source": [
        "Но пока просто примените его к используемому набору `Dataset.map` данных, поскольку набор данных, который вы загрузили из TFDS, является `tf.data.Dataset` объектом:"
      ]
    },
    {
      "cell_type": "code",
      "execution_count": 20,
      "metadata": {
        "id": "qmyh76AL7VAs"
      },
      "outputs": [],
      "source": [
        "bert_inputs_processor = BertInputProcessor(tokenizer, packer)"
      ]
    },
    {
      "cell_type": "code",
      "execution_count": 21,
      "metadata": {
        "id": "B8SSCtDe9MCk",
        "colab": {
          "base_uri": "https://localhost:8080/"
        },
        "outputId": "60c3106d-f73f-43a8-d9d0-c1361f7700b4"
      },
      "outputs": [
        {
          "output_type": "stream",
          "name": "stderr",
          "text": [
            "WARNING:tensorflow:From /usr/local/lib/python3.8/dist-packages/tensorflow/python/autograph/pyct/static_analysis/liveness.py:83: Analyzer.lamba_check (from tensorflow.python.autograph.pyct.static_analysis.liveness) is deprecated and will be removed after 2023-09-23.\n",
            "Instructions for updating:\n",
            "Lambda fuctions will be no more assumed to be used in the statement where they are used, or at least in the same block. https://github.com/tensorflow/tensorflow/issues/56089\n"
          ]
        }
      ],
      "source": [
        "glue_train = glue['train'].map(bert_inputs_processor).prefetch(1)"
      ]
    },
    {
      "cell_type": "markdown",
      "metadata": {
        "id": "KXpiDosO9rkY"
      },
      "source": [
        "Вот пример пакета из обработанного набора данных:"
      ]
    },
    {
      "cell_type": "code",
      "execution_count": 22,
      "metadata": {
        "id": "ffNvDE6t9rP-"
      },
      "outputs": [],
      "source": [
        "example_inputs, example_labels = next(iter(glue_train))"
      ]
    },
    {
      "cell_type": "code",
      "execution_count": 23,
      "metadata": {
        "id": "5sxtTuUi-bXt",
        "colab": {
          "base_uri": "https://localhost:8080/"
        },
        "outputId": "0de7ce8d-5d48-4880-c469-ff089931073d"
      },
      "outputs": [
        {
          "output_type": "execute_result",
          "data": {
            "text/plain": [
              "{'input_word_ids': <tf.Tensor: shape=(32, 128), dtype=int32, numpy=\n",
              " array([[ 101, 1996, 7235, ...,    0,    0,    0],\n",
              "        [ 101, 2625, 2084, ...,    0,    0,    0],\n",
              "        [ 101, 6804, 1011, ...,    0,    0,    0],\n",
              "        ...,\n",
              "        [ 101, 2021, 2049, ...,    0,    0,    0],\n",
              "        [ 101, 2274, 2062, ...,    0,    0,    0],\n",
              "        [ 101, 2043, 1037, ...,    0,    0,    0]], dtype=int32)>,\n",
              " 'input_mask': <tf.Tensor: shape=(32, 128), dtype=int32, numpy=\n",
              " array([[1, 1, 1, ..., 0, 0, 0],\n",
              "        [1, 1, 1, ..., 0, 0, 0],\n",
              "        [1, 1, 1, ..., 0, 0, 0],\n",
              "        ...,\n",
              "        [1, 1, 1, ..., 0, 0, 0],\n",
              "        [1, 1, 1, ..., 0, 0, 0],\n",
              "        [1, 1, 1, ..., 0, 0, 0]], dtype=int32)>,\n",
              " 'input_type_ids': <tf.Tensor: shape=(32, 128), dtype=int32, numpy=\n",
              " array([[0, 0, 0, ..., 0, 0, 0],\n",
              "        [0, 0, 0, ..., 0, 0, 0],\n",
              "        [0, 0, 0, ..., 0, 0, 0],\n",
              "        ...,\n",
              "        [0, 0, 0, ..., 0, 0, 0],\n",
              "        [0, 0, 0, ..., 0, 0, 0],\n",
              "        [0, 0, 0, ..., 0, 0, 0]], dtype=int32)>}"
            ]
          },
          "metadata": {},
          "execution_count": 23
        }
      ],
      "source": [
        "example_inputs"
      ]
    },
    {
      "cell_type": "code",
      "execution_count": 24,
      "metadata": {
        "id": "wP4z_-9a-dFk",
        "colab": {
          "base_uri": "https://localhost:8080/"
        },
        "outputId": "bffe61ec-d684-4619-e7d1-a434eb44a7ad"
      },
      "outputs": [
        {
          "output_type": "execute_result",
          "data": {
            "text/plain": [
              "<tf.Tensor: shape=(32,), dtype=int64, numpy=\n",
              "array([0, 0, 1, 1, 0, 0, 1, 1, 1, 1, 1, 1, 0, 1, 1, 0, 1, 1, 1, 0, 1, 1,\n",
              "       1, 1, 1, 1, 1, 0, 0, 1, 0, 1])>"
            ]
          },
          "metadata": {},
          "execution_count": 24
        }
      ],
      "source": [
        "example_labels"
      ]
    },
    {
      "cell_type": "code",
      "execution_count": 25,
      "metadata": {
        "id": "jyjTdGpFhO_1",
        "colab": {
          "base_uri": "https://localhost:8080/"
        },
        "outputId": "419de8c1-944c-426e-ed7f-88087cd82dfb"
      },
      "outputs": [
        {
          "output_type": "stream",
          "name": "stdout",
          "text": [
            "input_word_ids  shape: (32, 128)\n",
            "input_mask      shape: (32, 128)\n",
            "input_type_ids  shape: (32, 128)\n",
            "labels          shape: (32,)\n"
          ]
        }
      ],
      "source": [
        "for key, value in example_inputs.items():\n",
        "  print(f'{key:15s} shape: {value.shape}')\n",
        "\n",
        "print(f'{\"labels\":15s} shape: {example_labels.shape}')"
      ]
    },
    {
      "cell_type": "markdown",
      "metadata": {
        "id": "mkGHN_FK-50U"
      },
      "source": [
        "`input_word_ids` содержит ID токенов:"
      ]
    },
    {
      "cell_type": "code",
      "execution_count": 26,
      "metadata": {
        "id": "eGL1_ktWLcgF",
        "colab": {
          "base_uri": "https://localhost:8080/",
          "height": 282
        },
        "outputId": "86bb633c-c930-48b5-bd78-e66ee7969412"
      },
      "outputs": [
        {
          "output_type": "execute_result",
          "data": {
            "text/plain": [
              "<matplotlib.collections.QuadMesh at 0x7f71602e6b20>"
            ]
          },
          "metadata": {},
          "execution_count": 26
        },
        {
          "output_type": "display_data",
          "data": {
            "text/plain": [
              "<Figure size 432x288 with 1 Axes>"
            ],
            "image/png": "[encoded data removed]"
          },
          "metadata": {
            "needs_background": "light"
          }
        }
      ],
      "source": [
        "plt.pcolormesh(example_inputs['input_word_ids'])"
      ]
    },
    {
      "cell_type": "markdown",
      "metadata": {
        "id": "ulNZ4U96-8JZ"
      },
      "source": [
        "Маска позволяет модели четко различать содержимое и заполнение. Маска имеет ту же форму, что и `input_word_ids` и содержит `1` в любом месте `input_word_id` не заполнение."
      ]
    },
    {
      "cell_type": "code",
      "execution_count": 27,
      "metadata": {
        "id": "zB7mW7DGK3rW",
        "colab": {
          "base_uri": "https://localhost:8080/",
          "height": 282
        },
        "outputId": "932677a7-b592-49d8-cdff-37b1e6f9ce4b"
      },
      "outputs": [
        {
          "output_type": "execute_result",
          "data": {
            "text/plain": [
              "<matplotlib.collections.QuadMesh at 0x7f716021e490>"
            ]
          },
          "metadata": {},
          "execution_count": 27
        },
        {
          "output_type": "display_data",
          "data": {
            "text/plain": [
              "<Figure size 432x288 with 1 Axes>"
            ],
            "image/png": "[encoded data removed]"
          },
          "metadata": {
            "needs_background": "light"
          }
        }
      ],
      "source": [
        "plt.pcolormesh(example_inputs['input_mask'])"
      ]
    },
    {
      "cell_type": "markdown",
      "metadata": {
        "id": "rxLenwAvCkBf"
      },
      "source": [
        "\"Тип ввода\" также имеет ту же форму, но внутри области без заполнения содержит `0` или `1`, указывающее, частью какого предложения является токен."
      ]
    },
    {
      "cell_type": "code",
      "execution_count": 28,
      "metadata": {
        "id": "2CetH_5C9P2m",
        "colab": {
          "base_uri": "https://localhost:8080/",
          "height": 282
        },
        "outputId": "f22ffbfc-4303-4f35-9045-914f08cb6542"
      },
      "outputs": [
        {
          "output_type": "execute_result",
          "data": {
            "text/plain": [
              "<matplotlib.collections.QuadMesh at 0x7f716019bfd0>"
            ]
          },
          "metadata": {},
          "execution_count": 28
        },
        {
          "output_type": "display_data",
          "data": {
            "text/plain": [
              "<Figure size 432x288 with 1 Axes>"
            ],
            "image/png": "[encoded data removed]"
          },
          "metadata": {
            "needs_background": "light"
          }
        }
      ],
      "source": [
        "plt.pcolormesh(example_inputs['input_type_ids'])"
      ]
    },
    {
      "cell_type": "markdown",
      "metadata": {
        "id": "pxHHeyei_sb9"
      },
      "source": [
        "Примените ту же предварительную обработку к подмножествам проверки и тестирования набора данных GLUE MRPC:"
      ]
    },
    {
      "cell_type": "code",
      "execution_count": 29,
      "metadata": {
        "id": "yuLKxf6zHxw-"
      },
      "outputs": [],
      "source": [
        "glue_validation = glue['validation'].map(bert_inputs_processor).prefetch(1)\n",
        "glue_test = glue['test'].map(bert_inputs_processor).prefetch(1)"
      ]
    },
    {
      "cell_type": "markdown",
      "metadata": {
        "id": "FSwymsbkbLDA"
      },
      "source": [
        "## Создание, обучение и экспорт модели"
      ]
    },
    {
      "cell_type": "markdown",
      "metadata": {
        "id": "bxxO3pJCEM9p"
      },
      "source": [
        "Теперь, когда вы отформатировали данные, как ожидалось, вы можете начать работать над созданием и обучением модели."
      ]
    },
    {
      "cell_type": "markdown",
      "metadata": {
        "id": "Efrj3Cn1kLAp"
      },
      "source": [
        "### Строим модель\n"
      ]
    },
    {
      "cell_type": "markdown",
      "metadata": {
        "id": "xxpOY5r2Ayq6"
      },
      "source": [
        "Первый шаг - загрузить файл конфигурации `config_dict` для предварительно обученной модели BERT:\n"
      ]
    },
    {
      "cell_type": "code",
      "execution_count": 30,
      "metadata": {
        "id": "v7ap0BONSJuz",
        "colab": {
          "base_uri": "https://localhost:8080/"
        },
        "outputId": "90cca04d-aca9-4478-fd54-a4ec31df5392"
      },
      "outputs": [
        {
          "output_type": "execute_result",
          "data": {
            "text/plain": [
              "{'attention_probs_dropout_prob': 0.1,\n",
              " 'hidden_act': 'gelu',\n",
              " 'hidden_dropout_prob': 0.1,\n",
              " 'hidden_size': 768,\n",
              " 'initializer_range': 0.02,\n",
              " 'intermediate_size': 3072,\n",
              " 'max_position_embeddings': 512,\n",
              " 'num_attention_heads': 12,\n",
              " 'num_hidden_layers': 12,\n",
              " 'type_vocab_size': 2,\n",
              " 'vocab_size': 30522}"
            ]
          },
          "metadata": {},
          "execution_count": 30
        }
      ],
      "source": [
        "import json\n",
        "\n",
        "bert_config_file = os.path.join(gs_folder_bert, \"bert_config.json\")\n",
        "config_dict = json.loads(tf.io.gfile.GFile(bert_config_file).read())\n",
        "config_dict"
      ]
    },
    {
      "cell_type": "code",
      "execution_count": 31,
      "metadata": {
        "id": "pKaEaKJSX85J"
      },
      "outputs": [],
      "source": [
        "encoder_config = tfm.nlp.encoders.EncoderConfig({\n",
        "    'type':'bert',\n",
        "    'bert': config_dict\n",
        "})"
      ]
    },
    {
      "cell_type": "code",
      "execution_count": 32,
      "metadata": {
        "id": "LbgzWukNSqOS",
        "colab": {
          "base_uri": "https://localhost:8080/"
        },
        "outputId": "56735652-387b-41ba-d261-46987405bd7c"
      },
      "outputs": [
        {
          "output_type": "execute_result",
          "data": {
            "text/plain": [
              "<official.nlp.modeling.networks.bert_encoder.BertEncoder at 0x7f7147bfc2e0>"
            ]
          },
          "metadata": {},
          "execution_count": 32
        }
      ],
      "source": [
        "bert_encoder = tfm.nlp.encoders.build_encoder(encoder_config)\n",
        "bert_encoder"
      ]
    },
    {
      "cell_type": "markdown",
      "metadata": {
        "id": "96ldxDSwkVkj"
      },
      "source": [
        "Файл конфигурации определяет основную модель BERT из набора моделей, которая представляет собой модель Keras, которая прогнозирует выходные ` num_classes` данные из входных данных с максимальной длиной последовательности `max_seq_length.`"
      ]
    },
    {
      "cell_type": "code",
      "execution_count": 33,
      "metadata": {
        "id": "cH682__U0FBv"
      },
      "outputs": [],
      "source": [
        "bert_classifier = tfm.nlp.models.BertClassifier(network=bert_encoder, num_classes=2)"
      ]
    },
    {
      "cell_type": "markdown",
      "source": [
        " Классификатор имеет три входа и один выход"
      ],
      "metadata": {
        "id": "zK317gZMFX7h"
      }
    },
    {
      "cell_type": "markdown",
      "metadata": {
        "id": "sFmVG4SKZAw8"
      },
      "source": [
        "Запустите его на тестовом пакете данных 10 примеров из обучающего набора. Выходные данные представляют собой логарифмы для двух классов:"
      ]
    },
    {
      "cell_type": "code",
      "execution_count": 34,
      "metadata": {
        "id": "VTjgPbp4ZDKo",
        "colab": {
          "base_uri": "https://localhost:8080/"
        },
        "outputId": "f02b81fb-c77f-4a93-8f1f-3fed867906ac"
      },
      "outputs": [
        {
          "output_type": "execute_result",
          "data": {
            "text/plain": [
              "array([[-0.35612246,  0.38786787],\n",
              "       [-0.83782256,  0.84094346],\n",
              "       [-0.46177948,  1.3095294 ],\n",
              "       [ 0.3219787 ,  0.7223166 ],\n",
              "       [ 0.78034693,  1.4243224 ],\n",
              "       [ 0.01892626,  0.70761883],\n",
              "       [-0.32131878,  1.0703396 ],\n",
              "       [-0.368509  ,  0.9295537 ],\n",
              "       [-0.44048637,  0.57964224],\n",
              "       [-0.36098316,  1.0564027 ]], dtype=float32)"
            ]
          },
          "metadata": {},
          "execution_count": 34
        }
      ],
      "source": [
        "bert_classifier(\n",
        "    example_inputs, training=True).numpy()[:10]"
      ]
    },
    {
      "cell_type": "markdown",
      "metadata": {
        "id": "Q0NTdwZsQK8n"
      },
      "source": [
        "`TransformerEncoder` в центре приведенного выше классификатора это `bert_encoder.`\n",
        "\n",
        "Если вы проверите кодировщик, обратите внимание что стопка `Transformer` слоев, подключена к тем же трем входам:"
      ]
    },
    {
      "cell_type": "code",
      "execution_count": 35,
      "metadata": {
        "id": "8L__-erBwLIQ",
        "colab": {
          "base_uri": "https://localhost:8080/",
          "height": 1000
        },
        "outputId": "a7b2fdb5-6831-40a6-c81e-1ffc82131783"
      },
      "outputs": [
        {
          "output_type": "execute_result",
          "data": {
            "image/png": "[encoded data removed]",
            "text/plain": [
              "<IPython.core.display.Image object>"
            ]
          },
          "metadata": {},
          "execution_count": 35
        }
      ],
      "source": [
        "tf.keras.utils.plot_model(bert_encoder, show_shapes=True, dpi=48)"
      ]
    },
    {
      "cell_type": "markdown",
      "metadata": {
        "id": "mKAvkQc3heSy"
      },
      "source": [
        "### Восстановим веса кодировщика\n",
        "\n",
        "При построении кодировщик инициализируется случайным образом. Восстановление весов кодировщика из контрольной точки:"
      ]
    },
    {
      "cell_type": "code",
      "execution_count": 36,
      "metadata": {
        "id": "97Ll2Gichd_Y",
        "colab": {
          "base_uri": "https://localhost:8080/"
        },
        "outputId": "7e828627-b998-46e3-ca24-d6490128aa0c"
      },
      "outputs": [
        {
          "output_type": "execute_result",
          "data": {
            "text/plain": [
              "<tensorflow.python.checkpoint.checkpoint.CheckpointLoadStatus at 0x7f714769d430>"
            ]
          },
          "metadata": {},
          "execution_count": 36
        }
      ],
      "source": [
        "checkpoint = tf.train.Checkpoint(encoder=bert_encoder)\n",
        "checkpoint.read(\n",
        "    os.path.join(gs_folder_bert, 'bert_model.ckpt')).assert_consumed()"
      ]
    },
    {
      "cell_type": "markdown",
      "metadata": {
        "id": "115caFLMk-_l"
      },
      "source": [
        "### Настройка оптимизатора\n",
        "BERT обычно использует оптимизатор Adam с уменьшением веса—AdamW (`tf.keras.optimizers.experimental.AdamW`). Он также использует график скорости обучения, который сначала увеличивается с 0, а затем уменьшается до 0:"
      ]
    },
    {
      "cell_type": "code",
      "execution_count": 37,
      "metadata": {
        "id": "c0jBycPDtkxR"
      },
      "outputs": [],
      "source": [
        "# Set up epochs and steps\n",
        "epochs = 5\n",
        "batch_size = 32\n",
        "eval_batch_size = 32\n",
        "\n",
        "train_data_size = info.splits['train'].num_examples\n",
        "steps_per_epoch = int(train_data_size / batch_size)\n",
        "num_train_steps = steps_per_epoch * epochs\n",
        "warmup_steps = int(0.1 * num_train_steps)\n",
        "initial_learning_rate=2e-5"
      ]
    },
    {
      "cell_type": "markdown",
      "metadata": {
        "id": "GFankgHK0Rvh"
      },
      "source": [
        "Линейное затухание `initial_learning_rate` до нуля за `num_train_steps`."
      ]
    },
    {
      "cell_type": "code",
      "execution_count": 38,
      "metadata": {
        "id": "qWSyT8P2j4mV"
      },
      "outputs": [],
      "source": [
        "linear_decay = tf.keras.optimizers.schedules.PolynomialDecay(\n",
        "    initial_learning_rate=initial_learning_rate,\n",
        "    end_learning_rate=0,\n",
        "    decay_steps=num_train_steps)"
      ]
    },
    {
      "cell_type": "markdown",
      "metadata": {
        "id": "anZPZPAP0Y3n"
      },
      "source": [
        "Разогрев до этого значения за `warmup_steps`:"
      ]
    },
    {
      "cell_type": "code",
      "execution_count": 39,
      "metadata": {
        "id": "z_AsVCiRkoN1"
      },
      "outputs": [],
      "source": [
        "warmup_schedule = tfm.optimization.lr_schedule.LinearWarmup(\n",
        "    warmup_learning_rate = 0,\n",
        "    after_warmup_lr_sched = linear_decay,\n",
        "    warmup_steps = warmup_steps\n",
        ")"
      ]
    },
    {
      "cell_type": "markdown",
      "metadata": {
        "id": "arfbaK6t0kH_"
      },
      "source": [
        "Общий график выглядит так:"
      ]
    },
    {
      "cell_type": "code",
      "execution_count": 40,
      "metadata": {
        "id": "rYZGunhqbGUZ",
        "colab": {
          "base_uri": "https://localhost:8080/",
          "height": 307
        },
        "outputId": "f799adc3-743d-491e-bba8-1c487c734a01"
      },
      "outputs": [
        {
          "output_type": "execute_result",
          "data": {
            "text/plain": [
              "Text(0, 0.5, 'Learning rate')"
            ]
          },
          "metadata": {},
          "execution_count": 40
        },
        {
          "output_type": "display_data",
          "data": {
            "text/plain": [
              "<Figure size 432x288 with 1 Axes>"
            ],
            "image/png": "[encoded data removed]"
          },
          "metadata": {
            "needs_background": "light"
          }
        }
      ],
      "source": [
        "x = tf.linspace(0, num_train_steps, 1001)\n",
        "y = [warmup_schedule(xi) for xi in x]\n",
        "plt.plot(x,y)\n",
        "plt.xlabel('Train step')\n",
        "plt.ylabel('Learning rate')"
      ]
    },
    {
      "cell_type": "markdown",
      "metadata": {
        "id": "bjsmG_fm0opn"
      },
      "source": [
        "Используем `tf.keras.optimizers.experimental.AdamW` чтобы создать экземпляр оптимизатора с этим графиком:"
      ]
    },
    {
      "cell_type": "code",
      "execution_count": 41,
      "metadata": {
        "id": "R8pTNuKIw1dA"
      },
      "outputs": [],
      "source": [
        "optimizer = tf.keras.optimizers.experimental.Adam(\n",
        "    learning_rate = warmup_schedule)"
      ]
    },
    {
      "cell_type": "markdown",
      "metadata": {
        "id": "78FEUOOEkoP0"
      },
      "source": [
        "### Обучение модели"
      ]
    },
    {
      "cell_type": "markdown",
      "metadata": {
        "id": "OTNcA0O0nSq9"
      },
      "source": [
        "Задайте метрику как точность, а потери как разреженную категориальную кросс-энтропию. Затем скомпилируйте и обучите классификатор BERT:"
      ]
    },
    {
      "cell_type": "code",
      "execution_count": 42,
      "metadata": {
        "id": "d5FeL0b6j7ky"
      },
      "outputs": [],
      "source": [
        "metrics = [tf.keras.metrics.SparseCategoricalAccuracy('accuracy', dtype=tf.float32)]\n",
        "loss = tf.keras.losses.SparseCategoricalCrossentropy(from_logits=True)\n",
        "\n",
        "bert_classifier.compile(\n",
        "    optimizer=optimizer,\n",
        "    loss=loss,\n",
        "    metrics=metrics)"
      ]
    },
    {
      "cell_type": "code",
      "execution_count": 43,
      "metadata": {
        "id": "CsrylctIj_Xy",
        "colab": {
          "base_uri": "https://localhost:8080/"
        },
        "outputId": "e1307c38-09b9-48af-c07b-873b4fcb4ab4"
      },
      "outputs": [
        {
          "output_type": "stream",
          "name": "stdout",
          "text": [
            "13/13 [==============================] - 6s 266ms/step - loss: 0.7299 - accuracy: 0.6838\n"
          ]
        },
        {
          "output_type": "execute_result",
          "data": {
            "text/plain": [
              "[0.729893684387207, 0.6838235259056091]"
            ]
          },
          "metadata": {},
          "execution_count": 43
        }
      ],
      "source": [
        "bert_classifier.evaluate(glue_validation)"
      ]
    },
    {
      "cell_type": "code",
      "execution_count": 44,
      "metadata": {
        "id": "hgPPc2oNmcVZ",
        "colab": {
          "base_uri": "https://localhost:8080/"
        },
        "outputId": "2c99c71d-bfef-4feb-d9e0-638fc1e21c7f"
      },
      "outputs": [
        {
          "output_type": "stream",
          "name": "stdout",
          "text": [
            "Epoch 1/5\n",
            "115/115 [==============================] - 135s 855ms/step - loss: 0.6448 - accuracy: 0.6887 - val_loss: 0.4897 - val_accuracy: 0.7721\n",
            "Epoch 2/5\n",
            "115/115 [==============================] - 99s 863ms/step - loss: 0.4011 - accuracy: 0.8252 - val_loss: 0.4944 - val_accuracy: 0.8113\n",
            "Epoch 3/5\n",
            "115/115 [==============================] - 98s 852ms/step - loss: 0.2203 - accuracy: 0.9147 - val_loss: 0.4662 - val_accuracy: 0.8333\n",
            "Epoch 4/5\n",
            "115/115 [==============================] - 99s 864ms/step - loss: 0.0986 - accuracy: 0.9692 - val_loss: 0.5609 - val_accuracy: 0.8211\n",
            "Epoch 5/5\n",
            "115/115 [==============================] - 98s 851ms/step - loss: 0.0545 - accuracy: 0.9869 - val_loss: 0.5190 - val_accuracy: 0.8333\n"
          ]
        },
        {
          "output_type": "execute_result",
          "data": {
            "text/plain": [
              "<keras.callbacks.History at 0x7f7146280ee0>"
            ]
          },
          "metadata": {},
          "execution_count": 44
        }
      ],
      "source": [
        "bert_classifier.fit(\n",
        "      glue_train,\n",
        "      validation_data=(glue_validation),\n",
        "      batch_size=32,\n",
        "      epochs=epochs)"
      ]
    },
    {
      "cell_type": "markdown",
      "metadata": {
        "id": "IFtKFWbNKb0u"
      },
      "source": [
        "Теперь запустите точно настроенную модель на пользовательском примере, чтобы убедиться, что она работает.\n",
        "\n",
        "Начните с кодирования некоторых пар предложений:"
      ]
    },
    {
      "cell_type": "code",
      "execution_count": 45,
      "metadata": {
        "id": "S1sdW6lLWaEi"
      },
      "outputs": [],
      "source": [
        "my_examples = {\n",
        "        'sentence1':[\n",
        "            'The rain in Spain falls mainly on the plain.',\n",
        "            'Look I fine tuned BERT.'],\n",
        "        'sentence2':[\n",
        "            'It mostly rains on the flat lands of Spain.',\n",
        "            'Is it working? This does not match.']\n",
        "    }"
      ]
    },
    {
      "cell_type": "markdown",
      "metadata": {
        "id": "7ynJibkBRTJF"
      },
      "source": [
        "Модель должна сообщать о классе 1 \"match\" для первого примера и классе 0 \"no-match\" для второго:"
      ]
    },
    {
      "cell_type": "code",
      "execution_count": 46,
      "metadata": {
        "id": "umo0ttrgRYIM",
        "colab": {
          "base_uri": "https://localhost:8080/"
        },
        "outputId": "2332dfbd-30f0-448e-a3e0-01a633d8d3b1"
      },
      "outputs": [
        {
          "output_type": "execute_result",
          "data": {
            "text/plain": [
              "<tf.Tensor: shape=(2,), dtype=int64, numpy=array([1, 0])>"
            ]
          },
          "metadata": {},
          "execution_count": 46
        }
      ],
      "source": [
        "ex_packed = bert_inputs_processor(my_examples)\n",
        "my_logits = bert_classifier(ex_packed, training=False)\n",
        "\n",
        "result_cls_ids = tf.argmax(my_logits)\n",
        "result_cls_ids"
      ]
    },
    {
      "cell_type": "code",
      "execution_count": 47,
      "metadata": {
        "id": "HNdmOEHKT7e8",
        "colab": {
          "base_uri": "https://localhost:8080/"
        },
        "outputId": "829c77fa-6d0c-4f19-d9a4-a7437099e9af"
      },
      "outputs": [
        {
          "output_type": "execute_result",
          "data": {
            "text/plain": [
              "<tf.Tensor: shape=(2,), dtype=string, numpy=array([b'equivalent', b'not_equivalent'], dtype=object)>"
            ]
          },
          "metadata": {},
          "execution_count": 47
        }
      ],
      "source": [
        "tf.gather(tf.constant(info.features['label'].names), result_cls_ids)"
      ]
    },
    {
      "cell_type": "markdown",
      "metadata": {
        "id": "fVo_AnT0l26j"
      },
      "source": [
        "### Экспорт модели\n",
        "\n",
        "Часто целью обучения модели является использование ее для чего-то вне процесса Python, который ее создал. Вы можете сделать это, экспортировав модель с помощью `tf.saved_model.`\n",
        "\n",
        "Сначала создайте класс-оболочку для экспорта модели. Эта оболочка выполняет две вещи:\n",
        "\n",
        "- Во-первых, она упаковывает `bert_inputs_processor` и `bert_classifier` вместе в один `tf.Module`, чтобы мы могли экспортировать все функциональные возможности.\n",
        "- Во-вторых, она определяет `tf.function`, которая реализует сквозное выполнение модели.\n",
        "\n",
        "Установка аргумента `input_signature` `tf.function`позволяет определить фиксированную сигнатуру для `tf.function`. Это может быть менее неожиданным, чем поведение автоматического восстановления по умолчанию."
      ]
    },
    {
      "cell_type": "code",
      "execution_count": 48,
      "metadata": {
        "id": "78h83mlt9wpY"
      },
      "outputs": [],
      "source": [
        "class ExportModel(tf.Module):\n",
        "  def __init__(self, input_processor, classifier):\n",
        "    self.input_processor = input_processor\n",
        "    self.classifier = classifier\n",
        "\n",
        "  @tf.function(input_signature=[{\n",
        "      'sentence1': tf.TensorSpec(shape=[None], dtype=tf.string),\n",
        "      'sentence2': tf.TensorSpec(shape=[None], dtype=tf.string)}])\n",
        "  def __call__(self, inputs):\n",
        "    packed = self.input_processor(inputs)\n",
        "    logits =  self.classifier(packed, training=False)\n",
        "    result_cls_ids = tf.argmax(logits)\n",
        "    return {\n",
        "        'logits': logits,\n",
        "        'class_id': result_cls_ids,\n",
        "        'class': tf.gather(\n",
        "            tf.constant(info.features['label'].names),\n",
        "            result_cls_ids)\n",
        "    }"
      ]
    },
    {
      "cell_type": "markdown",
      "metadata": {
        "id": "qnxysGUfIgFQ"
      },
      "source": [
        "Создайте экземпляр этой экспортной модели и сохраните его:"
      ]
    },
    {
      "cell_type": "code",
      "execution_count": 49,
      "metadata": {
        "id": "TmHW9DEFUZ0X"
      },
      "outputs": [],
      "source": [
        "export_model = ExportModel(bert_inputs_processor, bert_classifier)"
      ]
    },
    {
      "cell_type": "code",
      "execution_count": 50,
      "metadata": {
        "id": "Nl5x6nElZqkP",
        "colab": {
          "base_uri": "https://localhost:8080/"
        },
        "outputId": "a76672fb-4d4e-4563-c602-6a9c46f8cec5"
      },
      "outputs": [
        {
          "output_type": "stream",
          "name": "stderr",
          "text": [
            "WARNING:absl:Function `__call__` contains input name(s) inputs with unsupported characters which will be renamed to inputs_1 in the SavedModel.\n",
            "WARNING:absl:Found untraced functions such as bert_input_processor_layer_call_fn, bert_input_processor_layer_call_and_return_conditional_losses, fast_wordpiece_bert_tokenizer_layer_call_fn, fast_wordpiece_bert_tokenizer_layer_call_and_return_conditional_losses, bert_pack_inputs_layer_call_fn while saving (showing 5 of 370). These functions will not be directly callable after loading.\n"
          ]
        }
      ],
      "source": [
        "import tempfile\n",
        "export_dir=tempfile.mkdtemp(suffix='_saved_model')\n",
        "tf.saved_model.save(export_model, export_dir=export_dir,\n",
        "                    signatures={'serving_default': export_model.__call__})"
      ]
    },
    {
      "cell_type": "markdown",
      "metadata": {
        "id": "Pd8B5dy-ImDJ"
      },
      "source": [
        "Перезагрузите модель и сравните результаты с оригиналом:"
      ]
    },
    {
      "cell_type": "code",
      "execution_count": 51,
      "metadata": {
        "id": "9cAhHySVXHD5"
      },
      "outputs": [],
      "source": [
        "original_logits = export_model(my_examples)['logits']"
      ]
    },
    {
      "cell_type": "code",
      "execution_count": 52,
      "metadata": {
        "id": "H9cAcYwfW2fy"
      },
      "outputs": [],
      "source": [
        "reloaded = tf.saved_model.load(export_dir)\n",
        "reloaded_logits = reloaded(my_examples)['logits']"
      ]
    },
    {
      "cell_type": "code",
      "execution_count": 53,
      "metadata": {
        "id": "y_ACvKPsVUXC",
        "colab": {
          "base_uri": "https://localhost:8080/"
        },
        "outputId": "9889d50d-7d08-495d-a7b1-43378eb348d9"
      },
      "outputs": [
        {
          "output_type": "stream",
          "name": "stdout",
          "text": [
            "[[-2.455573   1.9706666]\n",
            " [ 1.5132495 -1.2756969]]\n",
            "\n",
            "[[-2.455573   1.9706666]\n",
            " [ 1.5132495 -1.2756969]]\n"
          ]
        }
      ],
      "source": [
        "# The results are identical:\n",
        "print(original_logits.numpy())\n",
        "print()\n",
        "print(reloaded_logits.numpy())"
      ]
    },
    {
      "cell_type": "code",
      "execution_count": 54,
      "metadata": {
        "id": "lBlPP20dXPFR",
        "colab": {
          "base_uri": "https://localhost:8080/"
        },
        "outputId": "7039f2e1-d59b-46f7-c1b8-bda4b05bbd76"
      },
      "outputs": [
        {
          "output_type": "stream",
          "name": "stdout",
          "text": [
            "0.0\n"
          ]
        }
      ],
      "source": [
        "print(np.mean(abs(original_logits - reloaded_logits)))"
      ]
    },
    {
      "cell_type": "markdown",
      "metadata": {
        "id": "CPsg7dZwfBM2"
      },
      "source": [
        "Поздравляем! Вы использовали `tensorflow_models` для создания BERT-классификатора, его обучения и экспорта для последующего использования."
      ]
    },
    {
      "cell_type": "markdown",
      "metadata": {
        "id": "eQceYqRFT_Eg"
      },
      "source": [
        "## Дополнительно: BERT на TF Hub"
      ]
    },
    {
      "cell_type": "markdown",
      "metadata": {
        "id": "QbklKt-w_CiI"
      },
      "source": [
        "<a id=\"hub_bert\"></a>\n",
        "\n",
        "\n",
        "Вы можете получить готовую модель BERT из TF Hub. Доступно множество версий вместе с их препроцессорами ввода.\n",
        "\n",
        "В этом примере используется уменьшенная версия BERT из TF Hub, которая была предварительно обучена с использованием наборов данных английской Википедии и BooksCorpus, аналогично исходной реализации (Turc et al., 2019).\n",
        "\n",
        "Начните с импорта TF Hub:"
      ]
    },
    {
      "cell_type": "code",
      "execution_count": 55,
      "metadata": {
        "id": "GDWrHm0BGpbX"
      },
      "outputs": [],
      "source": [
        "import tensorflow_hub as hub"
      ]
    },
    {
      "cell_type": "markdown",
      "metadata": {
        "id": "f02f38f83ac4"
      },
      "source": [
        "Выберите предварительный обработчик (препроцессор) входа и модель из TF Hub и оберните их в виде `hub.KerasLayer` слоев:"
      ]
    },
    {
      "cell_type": "code",
      "execution_count": 56,
      "metadata": {
        "id": "lo6479At4sP1",
        "colab": {
          "base_uri": "https://localhost:8080/"
        },
        "outputId": "98ca92d9-601a-41f9-9114-45c7d60ab7d0"
      },
      "outputs": [
        {
          "output_type": "stream",
          "name": "stderr",
          "text": [
            "WARNING:tensorflow:Please fix your imports. Module tensorflow.python.training.tracking.data_structures has been moved to tensorflow.python.trackable.data_structures. The old module will be deleted in version 2.11.\n"
          ]
        },
        {
          "output_type": "stream",
          "name": "stdout",
          "text": [
            "The Hub encoder has 39 trainable variables\n"
          ]
        }
      ],
      "source": [
        "# Всегда проверяйте, что ииспользуете правильный предварительный обработчик\n",
        "hub_preprocessor = hub.KerasLayer(\n",
        "    \"https://tfhub.dev/tensorflow/bert_en_uncased_preprocess/3\")\n",
        "\n",
        "# Это действительно маленький BERT.\n",
        "hub_encoder = hub.KerasLayer(f\"https://tfhub.dev/tensorflow/small_bert/bert_en_uncased_L-2_H-128_A-2/2\",\n",
        "                             trainable=True)\n",
        "\n",
        "print(f\"The Hub encoder has {len(hub_encoder.trainable_variables)} trainable variables\")"
      ]
    },
    {
      "cell_type": "markdown",
      "metadata": {
        "id": "iTzF574wivQv"
      },
      "source": [
        "Тестовый запуск препроцессора для пакета данных:"
      ]
    },
    {
      "cell_type": "code",
      "execution_count": 57,
      "metadata": {
        "id": "GOASSKR5R3-N",
        "colab": {
          "base_uri": "https://localhost:8080/"
        },
        "outputId": "67981387-4c1a-4ee3-b3c5-421aa85899e2"
      },
      "outputs": [
        {
          "output_type": "execute_result",
          "data": {
            "text/plain": [
              "{'input_word_ids': array([  101,  7592, 23435, 12314,   999,   102,     0,     0,     0,\n",
              "            0], dtype=int32),\n",
              " 'input_type_ids': array([0, 0, 0, 0, 0, 0, 0, 0, 0, 0], dtype=int32),\n",
              " 'input_mask': array([1, 1, 1, 1, 1, 1, 0, 0, 0, 0], dtype=int32)}"
            ]
          },
          "metadata": {},
          "execution_count": 57
        }
      ],
      "source": [
        "hub_inputs = hub_preprocessor(['Hello TensorFlow!'])\n",
        "{key: value[0, :10].numpy() for key, value in hub_inputs.items()} "
      ]
    },
    {
      "cell_type": "code",
      "execution_count": 58,
      "metadata": {
        "id": "XEcYrCR45Uwo",
        "colab": {
          "base_uri": "https://localhost:8080/"
        },
        "outputId": "a2182b8f-1e60-4323-9855-883336e779de"
      },
      "outputs": [
        {
          "output_type": "stream",
          "name": "stdout",
          "text": [
            "Pooled output shape: (1, 128)\n",
            "Sequence output shape: (1, 128, 128)\n"
          ]
        }
      ],
      "source": [
        "result = hub_encoder(\n",
        "    inputs=hub_inputs,\n",
        "    training=False,\n",
        ")\n",
        "\n",
        "print(\"Pooled output shape:\", result['pooled_output'].shape)\n",
        "print(\"Sequence output shape:\", result['sequence_output'].shape)"
      ]
    },
    {
      "cell_type": "markdown",
      "metadata": {
        "id": "cjojn8SmLSRI"
      },
      "source": [
        "На этом этапе было бы просто добавить классификационный заголовок самостоятельно.\n",
        "\n",
        "Класс Model Garden `tfm.nlp.models.BertClassifier` также может встроить классификатор в кодировщик TF Hub:"
      ]
    },
    {
      "cell_type": "code",
      "execution_count": 59,
      "metadata": {
        "id": "9nTDaApyLR70"
      },
      "outputs": [],
      "source": [
        "hub_classifier = tfm.nlp.models.BertClassifier(\n",
        "    bert_encoder,\n",
        "    num_classes=2,\n",
        "    dropout_rate=0.1,\n",
        "    initializer=tf.keras.initializers.TruncatedNormal(\n",
        "        stddev=0.02))"
      ]
    },
    {
      "cell_type": "markdown",
      "metadata": {
        "id": "xMJX3wV0_v7I"
      },
      "source": [
        "Единственным недостатком загрузки этой модели из TF Hub является то, что структура внутренних слоев Keras не восстанавливается. Это затрудняет проверку или модификацию модели.\n",
        "\n",
        "Модель кодировщика BERT -`hub_classifier`-теперь представляет собой один слой:"
      ]
    },
    {
      "cell_type": "markdown",
      "metadata": {
        "id": "ji3tdLz101km"
      },
      "source": [
        "## Дополнительно: конфигурация оптимизатора\n",
        "\n",
        "Пакет `tensorflow_models` определяет сериализуемые классы `config`, которые описывают, как строить live-объекты. Ранее в этом руководстве вы строили оптимизатор вручную.\n",
        "\n",
        "Конфигурация ниже описывает почти идентичный оптимизатор, построенный `optimizer_factory.OptimizerFactory`:"
      ]
    },
    {
      "cell_type": "code",
      "execution_count": 60,
      "metadata": {
        "id": "Fdb9C1ontnH_"
      },
      "outputs": [],
      "source": [
        "optimization_config = tfm.optimization.OptimizationConfig(\n",
        "    optimizer=tfm.optimization.OptimizerConfig(\n",
        "        type = \"adam\"),\n",
        "    learning_rate = tfm.optimization.LrConfig(\n",
        "        type='polynomial',\n",
        "        polynomial=tfm.optimization.PolynomialLrConfig(\n",
        "            initial_learning_rate=2e-5,\n",
        "            end_learning_rate=0.0,\n",
        "            decay_steps=num_train_steps)),\n",
        "    warmup = tfm.optimization.WarmupConfig(\n",
        "        type='linear',\n",
        "        linear=tfm.optimization.LinearWarmupConfig(warmup_steps=warmup_steps)\n",
        "    ))\n",
        "\n",
        "\n",
        "fac = tfm.optimization.optimizer_factory.OptimizerFactory(optimization_config)\n",
        "lr = fac.build_learning_rate()\n",
        "optimizer = fac.build_optimizer(lr=lr)"
      ]
    },
    {
      "cell_type": "code",
      "execution_count": 61,
      "metadata": {
        "id": "Rp7R1hBfv5HG",
        "colab": {
          "base_uri": "https://localhost:8080/",
          "height": 307
        },
        "outputId": "004e6461-e7f7-4aa7-9559-0ecbc3145025"
      },
      "outputs": [
        {
          "output_type": "execute_result",
          "data": {
            "text/plain": [
              "Text(0, 0.5, 'Learning rate')"
            ]
          },
          "metadata": {},
          "execution_count": 61
        },
        {
          "output_type": "display_data",
          "data": {
            "text/plain": [
              "<Figure size 432x288 with 1 Axes>"
            ],
            "image/png": "[encoded data removed]"
          },
          "metadata": {
            "needs_background": "light"
          }
        }
      ],
      "source": [
        "x = tf.linspace(0, num_train_steps, 1001).numpy()\n",
        "y = [lr(xi) for xi in x]\n",
        "plt.plot(x,y)\n",
        "plt.xlabel('Train step')\n",
        "plt.ylabel('Learning rate')"
      ]
    },
    {
      "cell_type": "markdown",
      "metadata": {
        "id": "ywn5miD_dnuh"
      },
      "source": [
        "Преимущество использования `config` объектов заключается в том, что они не содержат каких-либо сложных объектов TensorFlow и могут быть легко сериализованы в JSON и перестроены. Вот JSON для приведенного выше `tfm.optimization.OptimizationConfig:`"
      ]
    },
    {
      "cell_type": "code",
      "execution_count": 62,
      "metadata": {
        "id": "zo5RV5lud81Y",
        "colab": {
          "base_uri": "https://localhost:8080/"
        },
        "outputId": "7133adc5-3943-45b2-811c-8897ac730974"
      },
      "outputs": [
        {
          "output_type": "execute_result",
          "data": {
            "text/plain": [
              "{'optimizer': {'type': 'adam',\n",
              "  'adam': {'clipnorm': None,\n",
              "   'clipvalue': None,\n",
              "   'global_clipnorm': None,\n",
              "   'name': 'Adam',\n",
              "   'beta_1': 0.9,\n",
              "   'beta_2': 0.999,\n",
              "   'epsilon': 1e-07,\n",
              "   'amsgrad': False}},\n",
              " 'ema': None,\n",
              " 'learning_rate': {'type': 'polynomial',\n",
              "  'polynomial': {'name': 'PolynomialDecay',\n",
              "   'initial_learning_rate': 2e-05,\n",
              "   'decay_steps': 570,\n",
              "   'end_learning_rate': 0.0,\n",
              "   'power': 1.0,\n",
              "   'cycle': False,\n",
              "   'offset': 0}},\n",
              " 'warmup': {'type': 'linear',\n",
              "  'linear': {'name': 'linear', 'warmup_learning_rate': 0, 'warmup_steps': 57}}}"
            ]
          },
          "metadata": {},
          "execution_count": 62
        }
      ],
      "source": [
        "optimization_config = optimization_config.as_dict()\n",
        "optimization_config"
      ]
    },
    {
      "cell_type": "markdown",
      "metadata": {
        "id": "Z6qPXPEhekkd"
      },
      "source": [
        "`tfm.optimization.optimizer_factory.OptimizerFactory` так же легко может создать оптимизатор из словаря JSON:"
      ]
    },
    {
      "cell_type": "code",
      "execution_count": 63,
      "metadata": {
        "id": "p-bYrvfMYsxp"
      },
      "outputs": [],
      "source": [
        "fac = tfm.optimization.optimizer_factory.OptimizerFactory(\n",
        "    tfm.optimization.OptimizationConfig(optimization_config))\n",
        "lr = fac.build_learning_rate()\n",
        "optimizer = fac.build_optimizer(lr=lr)"
      ]
    }
  ],
  "metadata": {
    "colab": {
      "provenance": [],
      "include_colab_link": true
    },
    "kernelspec": {
      "display_name": "Python 3",
      "name": "python3"
    },
    "gpuClass": "standard"
  },
  "nbformat": 4,
  "nbformat_minor": 0
}